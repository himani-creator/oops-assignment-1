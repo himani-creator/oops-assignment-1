{
 "cells": [
  {
   "cell_type": "code",
   "execution_count": 3,
   "id": "563d75c8-7e8e-45a1-893f-0a34a722084c",
   "metadata": {},
   "outputs": [],
   "source": [
    "'''Q1. Explain Class and Object with respect to Object-Oriented Programming. Give a suitable example.'''\n",
    "\n",
    "'''A classs in object oriented programming is a blueprint or template which contains method and instances. Whereas object is a \n",
    "specimen  of class through which we call class. In the below code, test is a class and tst is an object'''\n",
    "\n",
    "class test:\n",
    "    \n",
    "    def __init__(self, name):\n",
    "        self.name = name\n",
    "        \n",
    "    def details(self):\n",
    "        print (self.name)"
   ]
  },
  {
   "cell_type": "code",
   "execution_count": 7,
   "id": "50e9195f-bd04-44e4-ae11-5cdec23d56dd",
   "metadata": {},
   "outputs": [],
   "source": [
    "tst = test(\"himani\")"
   ]
  },
  {
   "cell_type": "code",
   "execution_count": 8,
   "id": "a5a14bfa-c9e0-42a1-9dff-1a0e9725ee13",
   "metadata": {},
   "outputs": [
    {
     "name": "stdout",
     "output_type": "stream",
     "text": [
      "himani\n"
     ]
    }
   ],
   "source": [
    "tst.details()"
   ]
  },
  {
   "cell_type": "code",
   "execution_count": 9,
   "id": "00a4be75-dbfb-4efc-9656-a0423725bfb5",
   "metadata": {},
   "outputs": [
    {
     "data": {
      "text/plain": [
       "'Q2. Name the four pillars of OOPs.\\n - Encapsulation\\n - Polymorphism\\n - abstraction\\n - Inheritance '"
      ]
     },
     "execution_count": 9,
     "metadata": {},
     "output_type": "execute_result"
    }
   ],
   "source": [
    "'''Q2. Name the four pillars of OOPs.\n",
    " - Encapsulation\n",
    " - Polymorphism\n",
    " - abstraction\n",
    " - Inheritance '''"
   ]
  },
  {
   "cell_type": "code",
   "execution_count": 10,
   "id": "d759fa24-ca2e-455c-a447-1197ba18e13b",
   "metadata": {},
   "outputs": [],
   "source": [
    "'''Q3. Explain why the __init__() function is used. Give a suitable example.\n",
    "\n",
    "__init__() is a constructor function which is used to pass any data or argument and initiliaze an object  '''\n",
    "\n",
    "class test:\n",
    "    \n",
    "    def __init__(self, name):\n",
    "        self.name = name\n",
    "        \n",
    "    def details(self):\n",
    "        print (self.name)\n",
    "        \n",
    "tst = test(\"himani\")"
   ]
  },
  {
   "cell_type": "code",
   "execution_count": 11,
   "id": "7f503c49-c4c7-4cf2-938d-0ee28dc71b86",
   "metadata": {},
   "outputs": [
    {
     "name": "stdout",
     "output_type": "stream",
     "text": [
      "himani\n"
     ]
    }
   ],
   "source": [
    "tst.details()"
   ]
  },
  {
   "cell_type": "code",
   "execution_count": 12,
   "id": "b6108986-461d-4bcc-af5e-aeeb08fba26c",
   "metadata": {},
   "outputs": [
    {
     "data": {
      "text/plain": [
       "'Q4. Why self is used in OOPs?\\nBy using \"self\" we can access attributes and method of the class'"
      ]
     },
     "execution_count": 12,
     "metadata": {},
     "output_type": "execute_result"
    }
   ],
   "source": [
    "'''Q4. Why self is used in OOPs?\n",
    "By using \"self\" we can access attributes and method of the class'''"
   ]
  },
  {
   "cell_type": "code",
   "execution_count": 17,
   "id": "e5977ee9-2d3d-4211-80de-3840b4090f7f",
   "metadata": {},
   "outputs": [],
   "source": [
    "'''Q5. What is inheritance? Give an example for each type of inheritance\n",
    "\n",
    "Inheritance is a property of object oriented programming which means we can access property of one class through another class '''\n",
    "\n",
    "class class1:\n",
    "    \n",
    "    def test(self):\n",
    "        return \"this is class 1\"\n",
    "        "
   ]
  },
  {
   "cell_type": "code",
   "execution_count": 18,
   "id": "0803d395-e3fc-4774-84bf-9ac8471c4b0e",
   "metadata": {},
   "outputs": [],
   "source": [
    "class class2(class1):\n",
    "    \n",
    "    def test1(self):\n",
    "        return \"this is class2\""
   ]
  },
  {
   "cell_type": "code",
   "execution_count": 19,
   "id": "bb9a1075-69c0-4491-8f9f-de214c0778fb",
   "metadata": {},
   "outputs": [],
   "source": [
    "class class3(class2):\n",
    "    pass"
   ]
  },
  {
   "cell_type": "code",
   "execution_count": 20,
   "id": "b1e53f96-0db3-45f0-8b52-8c2c7f8bd6e9",
   "metadata": {},
   "outputs": [],
   "source": [
    "class3_obj = class3()"
   ]
  },
  {
   "cell_type": "code",
   "execution_count": 21,
   "id": "17919dd9-f2a7-4957-abc6-27757361ca3f",
   "metadata": {},
   "outputs": [
    {
     "data": {
      "text/plain": [
       "'this is class2'"
      ]
     },
     "execution_count": 21,
     "metadata": {},
     "output_type": "execute_result"
    }
   ],
   "source": [
    "class3_obj.test1()"
   ]
  },
  {
   "cell_type": "code",
   "execution_count": 22,
   "id": "a5460497-c534-4630-9db4-2fa04585df76",
   "metadata": {},
   "outputs": [
    {
     "data": {
      "text/plain": [
       "'this is class 1'"
      ]
     },
     "execution_count": 22,
     "metadata": {},
     "output_type": "execute_result"
    }
   ],
   "source": [
    "class3_obj.test()"
   ]
  },
  {
   "cell_type": "code",
   "execution_count": null,
   "id": "8ffc2c19-7e44-4aaa-bd3c-194bc590a5d5",
   "metadata": {},
   "outputs": [],
   "source": []
  }
 ],
 "metadata": {
  "kernelspec": {
   "display_name": "Python 3 (ipykernel)",
   "language": "python",
   "name": "python3"
  },
  "language_info": {
   "codemirror_mode": {
    "name": "ipython",
    "version": 3
   },
   "file_extension": ".py",
   "mimetype": "text/x-python",
   "name": "python",
   "nbconvert_exporter": "python",
   "pygments_lexer": "ipython3",
   "version": "3.10.8"
  }
 },
 "nbformat": 4,
 "nbformat_minor": 5
}
